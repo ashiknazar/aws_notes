{
 "cells": [
  {
   "cell_type": "markdown",
   "metadata": {},
   "source": [
    "- A VPC (Virtual Private Cloud) in AWS (Amazon Web Services) is a virtual network that allows you to launch AWS resources like EC2 instances, databases, and more in an isolated, secure environment.\n",
    "- a vpc called default vpc is created when we start an aws account.\n"
   ]
  },
  {
   "cell_type": "markdown",
   "metadata": {},
   "source": [
    "____"
   ]
  },
  {
   "cell_type": "markdown",
   "metadata": {},
   "source": [
    "1. internet Gateway\n",
    "2. a route table (with predefined routes to the default subnets)\n",
    "3. a network access control list(with predefined rules for access)\n",
    "4. subnets to provision aws resources(such as ec2 instances)\n"
   ]
  },
  {
   "cell_type": "markdown",
   "metadata": {},
   "source": [
    "#### aws management console\n",
    "\n",
    "- Networking & Content Delivery\n",
    "   - vpc"
   ]
  },
  {
   "cell_type": "markdown",
   "metadata": {},
   "source": []
  },
  {
   "cell_type": "markdown",
   "metadata": {},
   "source": [
    "- internet gateway\n",
    "   - if internet connectivity is required for any resource under vpc ,must attached to internet gateway\n",
    "- other than internet gateway routing table is also required\n",
    "   - destination :172.31.0.0.16   target: local\n",
    "   - destination :0.0.0.0/0  target : igw-cf0befb4\n",
    "   \n"
   ]
  },
  {
   "cell_type": "markdown",
   "metadata": {},
   "source": [
    "- vpc\n",
    "    - name:\n",
    "    - vpc id : \n",
    "    - state : \n",
    "    - network range : 172.31.0.0/16 IPv4 CIDR(classless interdomain routing)\n",
    "    - dhcp option set\n",
    "    - main route table\n",
    "    - main network acl\n",
    "       - security group works at instance level \n",
    "       - ACL works  at subnet level\n",
    "    - "
   ]
  },
  {
   "cell_type": "markdown",
   "metadata": {},
   "source": [
    "<br>\n",
    "- subnet\n",
    "  - "
   ]
  },
  {
   "cell_type": "markdown",
   "metadata": {},
   "source": [
    "#### network acl\n",
    "- high priority is for low rule no\n",
    "- \n"
   ]
  },
  {
   "cell_type": "markdown",
   "metadata": {},
   "source": [
    "![comparison ](screenshots/ipc.png)\n"
   ]
  },
  {
   "cell_type": "markdown",
   "metadata": {},
   "source": [
    "- class a -> DEFAULT CIDR - 8\n",
    "- subnet mask of /8 curresponds to the ip range 0.0.0.0/8 through 127.0.0.0/8\n",
    "- subnet mask 255.0.0.0\n",
    "- address range 0.0.0.0 -127.255.255.255\n",
    "- a cidr /8 means first 8 bits are set to 1 (255 decimal)->remaining 24 bits 0\n",
    "\n"
   ]
  },
  {
   "cell_type": "markdown",
   "metadata": {},
   "source": [
    " ![comparison ](screenshots/ipexample.png)"
   ]
  },
  {
   "cell_type": "markdown",
   "metadata": {},
   "source": [
    "- subnetting is a process of borrowing a bit from the host part & creating a network"
   ]
  },
  {
   "cell_type": "markdown",
   "metadata": {},
   "source": [
    " ![comparison ](screenshots/subnet.png)\n"
   ]
  },
  {
   "cell_type": "markdown",
   "metadata": {},
   "source": [
    " ![comparison ](screenshots/subn.png)"
   ]
  },
  {
   "cell_type": "markdown",
   "metadata": {},
   "source": [
    " ![comparison ](screenshots/defvpc.png)"
   ]
  },
  {
   "cell_type": "markdown",
   "metadata": {},
   "source": [
    " ![comparison ](screenshots/su.png)"
   ]
  },
  {
   "cell_type": "markdown",
   "metadata": {},
   "source": [
    " ![comparison ](screenshots/resr.png)"
   ]
  },
  {
   "cell_type": "markdown",
   "metadata": {},
   "source": []
  },
  {
   "cell_type": "markdown",
   "metadata": {},
   "source": [
    "____"
   ]
  },
  {
   "cell_type": "markdown",
   "metadata": {},
   "source": [
    "- network range - IPV4 CIDR - 172.31.0.0/16\n",
    "- security group works at instance level\n",
    "- acl works on subnet level\n"
   ]
  },
  {
   "cell_type": "markdown",
   "metadata": {},
   "source": []
  }
 ],
 "metadata": {
  "language_info": {
   "name": "python"
  }
 },
 "nbformat": 4,
 "nbformat_minor": 2
}
