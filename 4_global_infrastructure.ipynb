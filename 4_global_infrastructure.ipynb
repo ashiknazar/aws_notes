{
 "cells": [
  {
   "cell_type": "markdown",
   "metadata": {},
   "source": []
  },
  {
   "cell_type": "markdown",
   "metadata": {},
   "source": [
    "- Regions , avialability zone"
   ]
  },
  {
   "cell_type": "markdown",
   "metadata": {},
   "source": [
    "### Region :\n",
    "- physically independent  \n",
    "- aws regions provide multiple ,physically separated and isolated availability zones which are connected with low latency ,high throughput, and highly redundant networking\n"
   ]
  },
  {
   "cell_type": "markdown",
   "metadata": {},
   "source": [
    "- inside regions there are physically isolated availability zones that are inter connected.\n",
    "- every region is physically isolated from and independent of every other region in terms of location,power,water supply."
   ]
  },
  {
   "cell_type": "markdown",
   "metadata": {},
   "source": [
    "##### Availability zones"
   ]
  },
  {
   "cell_type": "markdown",
   "metadata": {},
   "source": [
    "- availabilty zones are locations that contains 1 or more data centers\n",
    "- each availabilty zones is isolated ,but the availabilty zones in a region are connected through low latency links\n",
    "  "
   ]
  },
  {
   "cell_type": "markdown",
   "metadata": {},
   "source": [
    "- when creating an ec2 instance \n",
    "    -  1.choose ami ,2. choose instance type 3.configure instance\n",
    "    - 3.configure instance \n",
    "       - subnet :choose availability zone\n",
    "       "
   ]
  },
  {
   "cell_type": "markdown",
   "metadata": {},
   "source": [
    "- edge locations\n",
    "   - place where data are cached to reduce the latency to the end users\n",
    "   - is a location where the content is cached after retrieving it from the origin server\n",
    "   - amazon cloudfront services\n",
    "   "
   ]
  },
  {
   "cell_type": "code",
   "execution_count": null,
   "metadata": {
    "vscode": {
     "languageId": "plaintext"
    }
   },
   "outputs": [],
   "source": []
  },
  {
   "cell_type": "code",
   "execution_count": null,
   "metadata": {
    "vscode": {
     "languageId": "plaintext"
    }
   },
   "outputs": [],
   "source": []
  }
 ],
 "metadata": {
  "language_info": {
   "name": "python"
  }
 },
 "nbformat": 4,
 "nbformat_minor": 2
}
