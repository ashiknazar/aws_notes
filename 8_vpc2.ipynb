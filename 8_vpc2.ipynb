{
 "cells": [
  {
   "cell_type": "markdown",
   "metadata": {},
   "source": [
    "- your vpcs\n",
    "- subnets"
   ]
  },
  {
   "cell_type": "markdown",
   "metadata": {},
   "source": [
    "- create subnet \n",
    " -  automatic assign of ipv4,6 will be off by default\n",
    " - submet ->select actions -> modify auto assign ip settings->enable auto assign ipv4 -> save\n",
    " "
   ]
  },
  {
   "cell_type": "markdown",
   "metadata": {},
   "source": [
    "- creating vpc\n",
    " - add subnet\n"
   ]
  },
  {
   "cell_type": "markdown",
   "metadata": {},
   "source": []
  }
 ],
 "metadata": {
  "language_info": {
   "name": "python"
  }
 },
 "nbformat": 4,
 "nbformat_minor": 2
}
