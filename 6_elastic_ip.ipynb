{
 "cells": [
  {
   "cell_type": "markdown",
   "metadata": {},
   "source": [
    "- when an instance is stopped it losses ip assigned previously,inorder to avoid this problem we can use elastic ip."
   ]
  },
  {
   "cell_type": "markdown",
   "metadata": {},
   "source": [
    "-  Elastic ips\n",
    "   - allocate new address ->allocate \n",
    "-select created elastic ip\n",
    "   - actions ->  associate address\n",
    "   - resource type -> instance\n",
    "   - instance -> select an instance\n",
    "   - associate \n",
    "- under any application failure\n",
    "   - select elastic ip -> actions -> disassociate address\n",
    "   - select elastic ip -> actions -> associate -> to backup app\n",
    "   "
   ]
  },
  {
   "cell_type": "markdown",
   "metadata": {},
   "source": [
    "- <b> an elastic ip address is available in free tire for a running instance</b>"
   ]
  },
  {
   "cell_type": "markdown",
   "metadata": {},
   "source": []
  }
 ],
 "metadata": {
  "language_info": {
   "name": "python"
  }
 },
 "nbformat": 4,
 "nbformat_minor": 2
}
