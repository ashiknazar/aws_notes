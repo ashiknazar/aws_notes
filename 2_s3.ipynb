{
 "cells": [
  {
   "cell_type": "markdown",
   "metadata": {},
   "source": [
    " - store data as objects\n",
    " - to store static website contents such as images,videos\n",
    " - store datas for analytics ,backup and restore\n",
    " - s3 can work as standalone\n",
    " - objects in s3 can be accessed from any where .\n",
    " - comparatively less performace than EBS"
   ]
  },
  {
   "cell_type": "markdown",
   "metadata": {},
   "source": [
    "1. CREATE BUCKET\n",
    "2. UPLOAD OBJECTS\n",
    "3. UNDERSTAND AND MANAGE PUBLIC ACCESS CONTROL LIST\n"
   ]
  },
  {
   "cell_type": "markdown",
   "metadata": {},
   "source": [
    "- free tire\n",
    "- storage - >  s3 ->create bucket\n",
    "   -  Bucket name  (use lower case)(unique)\n",
    "   -  specify region\n",
    "   - `next`\n",
    "   <br><br>\n",
    "   -  versioning (keep all version of an object in the same bucket)\n",
    "   - server access logging ( logs can be keep)\n",
    "   - tags\n",
    "   - object level logging\n",
    "   - Default encryption\n",
    "   - object lock (can only read not write or delete)\n",
    "   - `next` (nothing is enabled)\n",
    "   <br><br>\n",
    "   - configure options\n",
    "   <br><br>\n",
    "   - set permissions\n",
    "\n",
    "\n",
    "\n",
    "\n",
    "\n"
   ]
  },
  {
   "cell_type": "markdown",
   "metadata": {},
   "source": [
    "- choose bucket\n",
    "- ``upload``\n",
    "- `addfiles` select and open\n",
    "- access for other users\n",
    "- storage class -> standard ->`next` -> `upload`"
   ]
  },
  {
   "cell_type": "markdown",
   "metadata": {},
   "source": [
    "- choose bucket by checking \n",
    "- permissions\n",
    "     - public access settings(1)\n",
    "        - edit \n",
    "        - block new public ACLs and uploading public objects (remove)\n",
    "        - remove public access grand through public ACLs(remove)\n",
    "        - save -> confirm\n",
    "     - Access Control List\n",
    "         - acccess for other aws accounts\n",
    "           - ``add account``\n",
    "           - canonical id: aws2 ->my security credentials ->Account identifiers\n",
    "         - public access \n",
    "           - choose everyone and change( can only change if changed in public access settings(1))\n",
    "\n",
    "     "
   ]
  },
  {
   "cell_type": "markdown",
   "metadata": {},
   "source": [
    "- inside bucket select object\n",
    "   - permissions\n",
    "   - everyone -> read object permission"
   ]
  },
  {
   "cell_type": "markdown",
   "metadata": {},
   "source": [
    "- even if we remove public access of the bucket, and have public access for object  - > object can be viewed publicly\n",
    "- "
   ]
  }
 ],
 "metadata": {
  "language_info": {
   "name": "python"
  }
 },
 "nbformat": 4,
 "nbformat_minor": 2
}
