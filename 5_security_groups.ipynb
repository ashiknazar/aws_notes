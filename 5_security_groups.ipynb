{
 "cells": [
  {
   "cell_type": "markdown",
   "metadata": {},
   "source": [
    "- act as a virtual firewall\n",
    "- can add rules or modify rules\n",
    "- rules allows and filters incoming & outgoing traffic\n",
    "- rules are add using protocol,port range,source/destination ip\n"
   ]
  },
  {
   "cell_type": "markdown",
   "metadata": {},
   "source": [
    "- to host a webserver (apache)\n",
    "- cant access ec2 with public ip\n",
    "-  select security group ->edit -> add rule- > inbound rules\n",
    "     - HTTP  - port 80 -> anywhere"
   ]
  },
  {
   "cell_type": "markdown",
   "metadata": {},
   "source": []
  }
 ],
 "metadata": {
  "language_info": {
   "name": "python"
  }
 },
 "nbformat": 4,
 "nbformat_minor": 2
}
