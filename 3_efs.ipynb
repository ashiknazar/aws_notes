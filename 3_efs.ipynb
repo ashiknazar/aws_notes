{
 "cells": [
  {
   "cell_type": "markdown",
   "metadata": {},
   "source": [
    "### Elastic file system"
   ]
  },
  {
   "cell_type": "markdown",
   "metadata": {},
   "source": [
    "- high scalability without disturbing applications\n",
    "- designed to provide massive parallel shared access to 1000's of ec2 instances\n",
    "- faster than s3 but slower than ebs\n",
    "- good for sharable workload and applications\n",
    "- can access through web interface and through file system\n",
    "- big data analytics ,database backups,saas apps,content management systems\n"
   ]
  },
  {
   "cell_type": "markdown",
   "metadata": {},
   "source": [
    "1. create an efs\n",
    "2. create 2 ec2 instances\n",
    "3. mount efs in 2 instances\n",
    "4. sharing data between two instances"
   ]
  },
  {
   "cell_type": "markdown",
   "metadata": {},
   "source": [
    "\n",
    "\n",
    "1. create security group\n",
    "2. create file system\n",
    "3. efs"
   ]
  },
  {
   "cell_type": "markdown",
   "metadata": {},
   "source": [
    "- create security group\n",
    "  - add rule\n",
    "    - inbound\n",
    "      - ssh -> anywhere ->\n",
    "      - nfs -> anywhere ->\n",
    "    - outbound\n",
    "      - all traffic -> anywhere\n",
    "      "
   ]
  },
  {
   "cell_type": "markdown",
   "metadata": {},
   "source": [
    "- efs\n",
    "  - create file system\n",
    "  - configure file system access\n",
    "     - vpc -> choose default vpc\n",
    "     - create two regions to mount from n.virginia\n",
    "     - remove default security groups and select that created for efs\n",
    "     - choose performance mode\n",
    "        - general purpose\n",
    "     - choose throughput mode\n",
    "        - Bursting\n",
    "     - Enable life cycle management \n",
    "        - moves the data to another low cost storage if not accessed data (like 30 day no use)(infrequent access storage)"
   ]
  },
  {
   "cell_type": "markdown",
   "metadata": {},
   "source": [
    "- create 2 ec2 instances"
   ]
  },
  {
   "cell_type": "markdown",
   "metadata": {},
   "source": [
    "- local machine either putty/linux\n",
    "   -  ec2-user is default username\n",
    "   -  ssh ec2-user@ip -i efsmachines.pem\n",
    "   -  yes\n",
    "   -  sudo chmod 600 efsmachines.pem\n",
    "   -  ssh ec2-user@ip -i efsmachines.pem\n",
    "   \n"
   ]
  },
  {
   "cell_type": "markdown",
   "metadata": {},
   "source": [
    "- Amazon EC2 mount instructions(from local VPC)\n",
    "     - install efs utilities\n",
    "     - after creating a folder we can mount efs volume\n",
    "         - mkdir efs1\n",
    "         - sudo mount -t efs fs-d0770f30:/efs1\n",
    "         - cd efs1\n",
    "         - df -TH\n",
    "         - sudo vi testfile.txt\n",
    "         - this file can be opened from second machine\n",
    "         - cat testfile.txt\n",
    "         "
   ]
  },
  {
   "cell_type": "markdown",
   "metadata": {},
   "source": []
  }
 ],
 "metadata": {
  "language_info": {
   "name": "python"
  }
 },
 "nbformat": 4,
 "nbformat_minor": 2
}
