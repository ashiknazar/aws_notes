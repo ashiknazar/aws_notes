{
 "cells": [
  {
   "cell_type": "markdown",
   "metadata": {},
   "source": [
    "### EC2"
   ]
  },
  {
   "cell_type": "markdown",
   "metadata": {},
   "source": [
    "- onprimice \n",
    "    -  \"On-premise\" refers to IT infrastructure and services that are hosted within an organization's own facilities, meaning the hardware and software are installed and maintained locally. This contrasts with cloud computing, where services and data are hosted on remote servers managed by third-party providers and accessed over the internet.\n",
    "    - cpu,ram,storage\n",
    "- these resources are fixed once bought (cant upgrade)\n",
    "- EC2 is scalable (ram,cpu,storage)   "
   ]
  },
  {
   "cell_type": "markdown",
   "metadata": {},
   "source": [
    "#### EC2 \n",
    "- Secure and resizable compute capacity in the cloud.Launch applications when needed without upfront commitments(no need of previous investment for onpremise servers,,)\n",
    " - Elastic web scale computing(based on usage)\n",
    " - integrated( with other aws services)\n",
    " - inexpensive \n",
    " - completly controlled\n",
    " - reliable\n",
    " - easy to start\n",
    "    - management console(web interface),cmd,aws sdk\n",
    " - flexible cloud hosting services\n",
    " - secure"
   ]
  },
  {
   "cell_type": "markdown",
   "metadata": {
    "vscode": {
     "languageId": "plaintext"
    }
   },
   "source": [
    "- management console -> EC2 -> EC2 Dashboard -> Launch instance\n",
    "- Enable `Free tier only` \n"
   ]
  },
  {
   "cell_type": "markdown",
   "metadata": {},
   "source": [
    "- Amazon Machine Image - t2 micro\n",
    "- select instance -> Configure instance details \n",
    "![EC2 Configuration](screenshots/ec2conf.png)\n"
   ]
  },
  {
   "cell_type": "markdown",
   "metadata": {},
   "source": [
    "- add storage\n",
    "- add tags \n",
    "\n",
    "   - (key) Name :value( EC2_LINUX)\n",
    " "
   ]
  },
  {
   "cell_type": "markdown",
   "metadata": {},
   "source": [
    "- configure security group\n",
    "- review and launch\n",
    "- after creating ec2 instance we need to create a key, pair to connect\n",
    "- create a new key pair ->give name,download key pair(.pem),save\n",
    "- launch instance\n",
    "\n",
    "\n"
   ]
  },
  {
   "cell_type": "markdown",
   "metadata": {},
   "source": [
    "#### connecting from client file\n",
    "- windows use putty to connect\n",
    "-linux  \n",
    "    - go to download location\n",
    "    - cp ec2_linux.pem /home/user/.ssh/  (copied to .ssh folder)\n",
    "    - cd /home/user/.ssh/\n",
    "    - ls\n",
    "    - ls -al  (to see permissions)\n",
    "    - user-> readwrite, group -> readwrite,others- read\n",
    "    - to make it secure only give rw to user\n",
    "    - chmod 600 ec2_linux.pem\n",
    "    - ls -al\n",
    "    - ssh ec2-user@public_ip -i ec2_linux.pem\n",
    "    - yes\n",
    "    - connected \n",
    "    <br>\n",
    "    <br>\n",
    "    - sudo su"
   ]
  },
  {
   "cell_type": "markdown",
   "metadata": {},
   "source": [
    "### from windows\n",
    "- download putty from putty.org \n",
    "    - putty isa client utility used to establish ssh and telnet connections to server\n",
    "- putty.exe, puttygen.exe"
   ]
  },
  {
   "cell_type": "markdown",
   "metadata": {},
   "source": [
    "- run puttygen.exe -> load -> ec2_linux.pem -> save private key -> save as .ppk "
   ]
  },
  {
   "cell_type": "markdown",
   "metadata": {},
   "source": [
    "- run putty.exe -> Category ->Connection ->SSH -> Auth -> browse .ppk file \n",
    "- come to session -> HostName/ip address : ec2-user@ip_add ->SavedSessions ->give name ->Save ->dbl click on saved name -> yes\n"
   ]
  },
  {
   "cell_type": "markdown",
   "metadata": {},
   "source": [
    "- <b>Actions ->instance state ->stop </b>"
   ]
  },
  {
   "cell_type": "markdown",
   "metadata": {},
   "source": [
    "## Aws Billing Alarms\n",
    "-  aws management console ->aws2 (right side proifile like) -> dropdown ->my billing dashboard -> "
   ]
  },
  {
   "cell_type": "markdown",
   "metadata": {},
   "source": [
    "- preference -> recieve free tier usage alerts -> specify email -> save preference\n",
    "- rcv billing alerts (enable)\n",
    "   - manage billing alerts -> \n",
    "      - (only in virginia)\n",
    "      - Billing  -> Create Alarm \n",
    "      - exceed :__USD\n",
    "      -  NOTIFY ME ->EMAIL_ADD\n",
    "      - create alarm\n",
    "      - confirm email\n",
    "      \n",
    "\n",
    "\n",
    "      "
   ]
  },
  {
   "cell_type": "markdown",
   "metadata": {},
   "source": [
    "## IAM (IDENTITY AND ACCESS MANAGEMENT)\n",
    "- root account is that used when we created account.it have all access so its not safe to use this account every time\n",
    "- aws management console -> security identity and compliance  -> IAM \n",
    "- not region specific\n",
    "- users can give access to only specific parts\n",
    "- <b>IAM users sign-in link </b> is present at top which can be provided for users for login (can customize)\n",
    "- security status ->delete your root access keys ->activate mfa ->manage  mfa\n",
    "\n",
    "- create individual iam users\n",
    "- use groups to assign permissions\n",
    "- iam password policy \n",
    "\n",
    "\n"
   ]
  },
  {
   "cell_type": "markdown",
   "metadata": {},
   "source": [
    "### IAM\n",
    "- aws management console -> Dashboard -> Groups \n",
    "- create groups to assign permissions\n",
    "- "
   ]
  },
  {
   "cell_type": "markdown",
   "metadata": {},
   "source": [
    "- ``Groups``\n",
    "- create new group\n",
    "- Group name: Admin `next`\n",
    "- choose Administrator access `next` `create group`\n"
   ]
  },
  {
   "cell_type": "markdown",
   "metadata": {},
   "source": [
    "- ``Users``\n",
    "- ``Add user``\n",
    "- User name : \n",
    "- access type:\n",
    "    - programatic access : given to users who need to acces by cmd,shell (programmers)\n",
    "    - aws management console access: for those who can access management console like login with root account:\n",
    "- ``next``\n",
    "-  Set permissions\n",
    "    - Add user to group\n",
    "- Add tags\n",
    "- ``create user``"
   ]
  },
  {
   "cell_type": "markdown",
   "metadata": {},
   "source": [
    "___\n",
    "- create another kind of group\n",
    "    - AmazonEC2FullAccess\n",
    "- Add user\n",
    "- provide the permissions\n",
    "   - assign group\n",
    "___"
   ]
  },
  {
   "cell_type": "markdown",
   "metadata": {},
   "source": [
    " #### IAM\n",
    " - Activate MFA on your root account\n",
    "    -  multi factor authentication\n",
    "    - ``Manage MFA`` , ``MFA`` ,  ``Activate MFA``\n",
    "    - ``Virtual MFA device``(downloadable app ,only free one) | u2f security key | other hardware mfa device\n",
    "    - ``continue``\n",
    "    - playstore -> ``google authenticator`` -> open ->begin ->scan a bar code ->allow permissions ->scan qr code ->408 383 -> 354 544 -> add as MFA code 1 -> MFA code 2 ->Assign MFA ->close\n",
    "- sign out and verify\n",
    "- manage password policy"
   ]
  },
  {
   "cell_type": "markdown",
   "metadata": {},
   "source": [
    "___\n",
    "### AWS STORAGE"
   ]
  },
  {
   "cell_type": "markdown",
   "metadata": {},
   "source": [
    "- AMAZON EBS\n",
    "- AMAZON S3\n",
    "- AMAZON EFS\n"
   ]
  },
  {
   "cell_type": "markdown",
   "metadata": {},
   "source": [
    "#### Amazon Elastic Block Store"
   ]
  },
  {
   "cell_type": "markdown",
   "metadata": {},
   "source": [
    "- ec2 virtual machines use it as drives\n",
    "- blocks of same size\n",
    "- internally seperate hard drives\n",
    "- cant act as stand alone drive( always attached to ec2)\n",
    "- can automatically replicate within availabilty zone\n",
    "- high scalability,performance\n",
    "- used for bigdata analytics,streaming,data warehouse\n",
    "- available only in a particular region\n",
    "\n"
   ]
  },
  {
   "cell_type": "markdown",
   "metadata": {},
   "source": [
    "#### Amazon s3"
   ]
  },
  {
   "cell_type": "markdown",
   "metadata": {},
   "source": [
    "- AMAZON SIMPLE STORAGE SERVICE\n",
    "- store as objects,ie in the same data format\n",
    "- can work as stand alone\n",
    "- we define containers, in which data is stored,such containers are called buckets\n",
    "- 5tb per object\n",
    "- to store static website contents,store data for analytics\n",
    "- comparatively less performace than EBS\n",
    "-  mainly used for storing data that doesnt require frequent updates and little bit latency is not a problem\n",
    "-  can access from anywhere\n",
    "- can have infinite objects\n"
   ]
  },
  {
   "cell_type": "markdown",
   "metadata": {},
   "source": [
    "#### Amazon Elasic File System"
   ]
  },
  {
   "cell_type": "markdown",
   "metadata": {},
   "source": [
    "- traditional (directories/sub directories)\n",
    "- can access through ec2/through other services\n",
    "- can be shared and accessed by multiple services like s3\n",
    "- performance is > s3 < EBS\n",
    "- can scale automatically up/down\n",
    "-  in case of <b>ebs</b> scaling need to be done with api /cmd\n",
    "-  used when scalablity and fast output with high workload are needs\n",
    "- bigdata ,web servers,development and testing,content management applications ,saas applications\n",
    "- can access through web interface and through file system\n"
   ]
  },
  {
   "cell_type": "markdown",
   "metadata": {},
   "source": [
    "![comparison ](screenshots/comp.png)\n"
   ]
  },
  {
   "cell_type": "markdown",
   "metadata": {},
   "source": []
  }
 ],
 "metadata": {
  "language_info": {
   "name": "python"
  }
 },
 "nbformat": 4,
 "nbformat_minor": 2
}
